{
  "nbformat": 4,
  "nbformat_minor": 0,
  "metadata": {
    "colab": {
      "name": "Demo Setup.ipynb",
      "provenance": [],
      "mount_file_id": "16VKLw1KZa54bC2yRNhff8l-C1ondh34L",
      "authorship_tag": "ABX9TyNv2HOwqc7y0hHkx/1kKZp7"
    },
    "kernelspec": {
      "name": "python3",
      "display_name": "Python 3"
    },
    "language_info": {
      "name": "python"
    }
  },
  "cells": [
    {
      "cell_type": "code",
      "execution_count": null,
      "metadata": {
        "colab": {
          "base_uri": "https://localhost:8080/"
        },
        "id": "YoLXPbcYKs8R",
        "outputId": "746e2659-8ec6-49e2-f8a6-1847b6c7e39a"
      },
      "outputs": [
        {
          "output_type": "stream",
          "name": "stdout",
          "text": [
            "<class 'pandas.core.frame.DataFrame'>\n",
            "RangeIndex: 1000 entries, 0 to 999\n",
            "Data columns (total 12 columns):\n",
            " #   Column            Non-Null Count  Dtype \n",
            "---  ------            --------------  ----- \n",
            " 0   animal_id         1000 non-null   object\n",
            " 1   name              815 non-null    object\n",
            " 2   datetime          1000 non-null   object\n",
            " 3   monthyear         1000 non-null   object\n",
            " 4   date_of_birth     1000 non-null   object\n",
            " 5   outcome_type      1000 non-null   object\n",
            " 6   outcome_subtype   512 non-null    object\n",
            " 7   animal_type       1000 non-null   object\n",
            " 8   sex_upon_outcome  1000 non-null   object\n",
            " 9   age_upon_outcome  993 non-null    object\n",
            " 10  breed             1000 non-null   object\n",
            " 11  color             1000 non-null   object\n",
            "dtypes: object(12)\n",
            "memory usage: 93.9+ KB\n",
            "None\n"
          ]
        }
      ],
      "source": [
        "import pandas as pd\n",
        "\n",
        "df = pd.read_csv('https://data.austintexas.gov/resource/9t4d-g238.csv')\n",
        "\n",
        "print(df.info())"
      ]
    },
    {
      "cell_type": "code",
      "source": [
        "df = pd.read_csv('/content/drive/MyDrive/Austin_Animal_Center_Outcomes.csv')\n",
        "\n",
        "print(df.info())"
      ],
      "metadata": {
        "colab": {
          "base_uri": "https://localhost:8080/"
        },
        "id": "Dkhm6_WcNnyW",
        "outputId": "553a4473-76ad-4350-eb33-4a405ce9971f"
      },
      "execution_count": null,
      "outputs": [
        {
          "output_type": "stream",
          "name": "stdout",
          "text": [
            "<class 'pandas.core.frame.DataFrame'>\n",
            "RangeIndex: 138557 entries, 0 to 138556\n",
            "Data columns (total 12 columns):\n",
            " #   Column            Non-Null Count   Dtype \n",
            "---  ------            --------------   ----- \n",
            " 0   Animal ID         138557 non-null  object\n",
            " 1   Name              97317 non-null   object\n",
            " 2   DateTime          138557 non-null  object\n",
            " 3   MonthYear         138557 non-null  object\n",
            " 4   Date of Birth     138557 non-null  object\n",
            " 5   Outcome Type      138534 non-null  object\n",
            " 6   Outcome Subtype   63329 non-null   object\n",
            " 7   Animal Type       138557 non-null  object\n",
            " 8   Sex upon Outcome  138556 non-null  object\n",
            " 9   Age upon Outcome  138552 non-null  object\n",
            " 10  Breed             138557 non-null  object\n",
            " 11  Color             138557 non-null  object\n",
            "dtypes: object(12)\n",
            "memory usage: 12.7+ MB\n",
            "None\n"
          ]
        }
      ]
    }
  ]
}